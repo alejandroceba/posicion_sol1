{
 "cells": [
  {
   "cell_type": "code",
   "execution_count": 1,
   "id": "0939b206-4ec7-4f3e-9706-8d282c87205f",
   "metadata": {},
   "outputs": [],
   "source": [
    "import numpy as np\n",
    "import pandas as pd\n",
    "import math"
   ]
  },
  {
   "cell_type": "markdown",
   "id": "8d2d8c90-dd8e-416b-908f-bc3ec5d5b719",
   "metadata": {},
   "source": [
    "# Programa para el ca'lculo de la posici'on solar\n",
    "\n",
    "Datos de entrada\n",
    "\n",
    "* d'ia del año\n",
    "* latitud, longitud\n",
    "* hora (con tiempo est'andar) (vector): calcular para cada hora del dia\n",
    "* zona horaria (verano s/n)\n",
    "\n",
    "datos de salida\n",
    "\n",
    "* declinaci'on\n",
    "* duración del d'ia\n",
    "* horas de amanecer y ocaso en tiempo estandar\n",
    "* posici'on del sol: altura/elevaci'on, azimut, 'angulo cenital\n",
    "\n",
    "Gr'aficas: 'angulos en funci'on de la hora\n",
    "\n",
    "Trabajo en equipo \n",
    "\n",
    "validar con otros programas\n",
    "\n",
    "ecs\n",
    "\n",
    "declinaci´on\n",
    "\n",
    "delta = 0.4093 * np.sin(2 * pi * (284 + N) / 365)\n",
    "\n",
    "latitud \n",
    "\n",
    "phi = arg de una func\n",
    "\n",
    "longitud local\n",
    "\n",
    "L_loc = \n",
    "\n",
    "longitud de referencia \n",
    "\n",
    "L_zh\n",
    "\n",
    "omega = 15 * (t_sol - 1)\n",
    "\n",
    "t_sol = t_est + (L_loc - L_zh) / 15 + C_1 + E_t / 60\n",
    "\n",
    "horario de verano C_1\n",
    "\n",
    "E_t = 9.87 * np.sin(2 * B) - 7.53 * np.cos(B) - 1.5 * np.sin(B)\n",
    "\n",
    "B = (N - 81) * 360 / 364\n",
    "\n",
    "t_d = 24 * omega_o / pi\n",
    "\n",
    "omega_o = arccos(-tan(delta)*tan(phi))\n",
    "\n",
    "usuario\n",
    "\n",
    "N =\n",
    "\n",
    "phi =\n",
    "\n",
    "L_loc =\n",
    "\n",
    "L_ref = \n",
    "\n",
    "zona horario C_1\n",
    "\n",
    "t_est ="
   ]
  },
  {
   "cell_type": "code",
   "execution_count": 28,
   "id": "83633952-95ee-47e7-a5eb-70c2969dbdad",
   "metadata": {},
   "outputs": [],
   "source": [
    "#in\n",
    "N = 200\n",
    "\n",
    "phi = 18.55 * pi / 90\n",
    "\n",
    "L_loc = -99 * pi / 90\n",
    "\n",
    "L_zh = -90 * pi / 90\n",
    "\n",
    "C_1 = 0\n",
    "\n",
    "t_est = 12.63"
   ]
  },
  {
   "cell_type": "code",
   "execution_count": 30,
   "id": "7c62a530-54d0-49ae-aca7-93b11f7a8191",
   "metadata": {},
   "outputs": [
    {
     "data": {
      "text/plain": [
       "np.float64(0.3634818621522516)"
      ]
     },
     "execution_count": 30,
     "metadata": {},
     "output_type": "execute_result"
    }
   ],
   "source": [
    "# declinacion\n",
    "pi = math.pi\n",
    "delta = 0.4093 * np.sin(2 * pi * (284 + N) / 365)\n",
    "delta"
   ]
  },
  {
   "cell_type": "code",
   "execution_count": 31,
   "id": "deb57db5-a8c7-4ca7-9900-ddb0bf411273",
   "metadata": {},
   "outputs": [
    {
     "data": {
      "text/plain": [
       "np.float64(14.22922764108331)"
      ]
     },
     "execution_count": 31,
     "metadata": {},
     "output_type": "execute_result"
    }
   ],
   "source": [
    "# duracion del dia\n",
    "omega_o = np.arccos(-np.tan(delta)*np.tan(phi))\n",
    "t_d = 24 * omega_o / pi\n",
    "omega_a = - omega_o\n",
    "t_d"
   ]
  },
  {
   "cell_type": "code",
   "execution_count": 34,
   "id": "4a2b3d0f-f4b8-4ce6-bf2a-6ae490890602",
   "metadata": {},
   "outputs": [
    {
     "data": {
      "text/plain": [
       "np.float64(727.4504061705807)"
      ]
     },
     "execution_count": 34,
     "metadata": {},
     "output_type": "execute_result"
    }
   ],
   "source": [
    "# hora amanecer y ocaso en tiempo estandar\n",
    "t_so = omega_a / .25 + 720\n",
    "\n",
    "t_salba = - omega_a / .25 + 720\n",
    "\n",
    "B = (N - 81) * 2 * pi / 364\n",
    "\n",
    "E_t = 9.87 * np.sin(2 * B) - 7.53 * np.cos(B) - 1.5 * np.sin(B)\n",
    "\n",
    "t_esto = t_so / 60 - 12 * (L_loc - L_zh) / pi - C_1 - E_t / 60\n",
    "\n",
    "t_estalba = t_salba / 60 - 12 * (L_loc - L_zh) / pi - C_1 - E_t / 60\n",
    "\n",
    "t_salba"
   ]
  },
  {
   "cell_type": "code",
   "execution_count": 6,
   "id": "1522ff1f-73e8-4392-9213-4f4684cfa322",
   "metadata": {},
   "outputs": [],
   "source": [
    "#acimut\n",
    "#t_sol = t_est + (L_loc - L_zh) / 15 + C_1 + E_t / 60\n",
    "#E_t = 9.87 * np.sin(2 * B) - 7.53 * np.cos(B) - 1.5 * np.sin(B)\n",
    "#B = (N - 81) * 360 / 364\n",
    "#omega = 15 * (t_sol - 1)\n",
    "#gamma_s = np.arctan2(np.cos(delta) * np.sin(omega),np.sin(delta) * no.cos(phi)-np.cos(delta) * np.sin(phi) * np.cos(omega))"
   ]
  },
  {
   "cell_type": "code",
   "execution_count": 7,
   "id": "d6d4c99a-6de8-49f7-8b89-db9f8fa0bb43",
   "metadata": {},
   "outputs": [],
   "source": [
    "#altura\n",
    "#alpha = np.arcsin(np.sin(phi) * np.sin(delta) + np.cos(phi) * np.cos(delta) * np.cos(omega))\n",
    "#cenital\n",
    "#theta_z = pi / 2 - alpha"
   ]
  }
 ],
 "metadata": {
  "kernelspec": {
   "display_name": "Python 3 (ipykernel)",
   "language": "python",
   "name": "python3"
  },
  "language_info": {
   "codemirror_mode": {
    "name": "ipython",
    "version": 3
   },
   "file_extension": ".py",
   "mimetype": "text/x-python",
   "name": "python",
   "nbconvert_exporter": "python",
   "pygments_lexer": "ipython3",
   "version": "3.12.5"
  }
 },
 "nbformat": 4,
 "nbformat_minor": 5
}
